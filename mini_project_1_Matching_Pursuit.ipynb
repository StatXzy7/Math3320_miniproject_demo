{
 "cells": [
  {
   "cell_type": "markdown",
   "id": "7e0c03ad",
   "metadata": {},
   "source": [
    "# Mini Project 1: Matching Pursuit\n",
    "**Course**: CUHK MATH3320 - Foundation of Data Analytics\n",
    "**Due Date**: October 15, 2024, 23:59:59\n",
    "**Submission Platform**: Blackboard System\n",
    "\n",
    "In this notebook, we will construct a regression model using the Matching Pursuit algorithm and the L0 norm constraint. We will go through the steps of finding a dataset, determining the optimal hyperparameter `k`, and implementing the Matching Pursuit algorithm."
   ]
  },
  {
   "cell_type": "markdown",
   "id": "1c5d2d3f",
   "metadata": {},
   "source": [
    "## 0. Introduction\n",
    "The goal of this project is to build a regression model using the Matching Pursuit algorithm while applying an L0 norm constraint to the model weights. The L0 norm constraint ensures that the number of non-zero coefficients in the model is controlled by a hyperparameter `k`. This helps in building a sparse model, reducing complexity, and potentially avoiding overfitting."
   ]
  },
  {
   "cell_type": "markdown",
   "id": "d8c37851",
   "metadata": {},
   "source": [
    "## 1. Dataset\n",
    "For this project, we will use a publicly available dataset from the internet. In this example, we use the `California Housing` dataset available from the `sklearn` library. This dataset contains information on different factors that affect housing prices in California.\n",
    "\n",
    "We will load the dataset and split it into training and testing sets."
   ]
  },
  {
   "cell_type": "code",
   "execution_count": 1,
   "id": "b0793479",
   "metadata": {},
   "outputs": [
    {
     "name": "stdout",
     "output_type": "stream",
     "text": [
      "Training set shape: (16512, 8), Testing set shape: (4128, 8)\n"
     ]
    }
   ],
   "source": [
    "from sklearn.datasets import fetch_california_housing\n",
    "from sklearn.model_selection import train_test_split\n",
    "import numpy as np\n",
    "\n",
    "# Load the dataset\n",
    "data = fetch_california_housing()\n",
    "X = data.data\n",
    "y = data.target\n",
    "\n",
    "# Split the data into training and testing sets\n",
    "X_train, X_test, y_train, y_test = train_test_split(X, y, test_size=0.2, random_state=42)\n",
    "\n",
    "# Print dataset shapes to verify\n",
    "print(f'Training set shape: {X_train.shape}, Testing set shape: {X_test.shape}')"
   ]
  },
  {
   "cell_type": "markdown",
   "id": "df01beeb",
   "metadata": {},
   "source": [
    "The dataset has been successfully loaded and split into training and testing sets. The shapes of the training and testing sets are displayed above, ensuring that the data is ready for model training and evaluation."
   ]
  },
  {
   "cell_type": "markdown",
   "id": "49895548",
   "metadata": {},
   "source": [
    "## 2. Hyperparameter Selection\n",
    "We need to determine the optimal value of the hyperparameter `k`, which controls the sparsity of our model. We will use cross-validation to select the best `k` value. The goal is to find a balance between model complexity and predictive accuracy by choosing an appropriate value for `k`.\n",
    "\n",
    "We will use K-Fold cross-validation to evaluate different values of `k` and choose the one that yields the lowest error."
   ]
  },
  {
   "cell_type": "code",
   "execution_count": 7,
   "id": "52945f95",
   "metadata": {},
   "outputs": [],
   "source": [
    "from sklearn.model_selection import KFold\n",
    "from sklearn.metrics import mean_squared_error\n",
    "\n",
    "# Define a function to perform cross-validation\n",
    "def cross_validate_matching_pursuit(X, y, k_values, n_splits=5):\n",
    "    kf = KFold(n_splits=n_splits, shuffle=True, random_state=42)\n",
    "    avg_errors = []\n",
    "\n",
    "    for k in k_values:\n",
    "        errors = []\n",
    "        for train_index, val_index in kf.split(X):\n",
    "            X_train, X_val = X[train_index], X[val_index]\n",
    "            y_train, y_val = y[train_index], y[val_index]\n",
    "\n",
    "            # Train the Matching Pursuit model\n",
    "            w = matching_pursuit(X_train, y_train, k)\n",
    "            y_pred = np.dot(X_val, w)\n",
    "            error = mean_squared_error(y_val, y_pred)\n",
    "            errors.append(error)\n",
    "\n",
    "        avg_errors.append(np.mean(errors))\n",
    "\n",
    "    return avg_errors\n",
    "\n",
    "# Define a range of k values to test\n",
    "k_values = range(1, X_train.shape[1] + 1)\n",
    "# Placeholder for the matching_pursuit function (to be implemented later)\n",
    "def matching_pursuit(X, y, k):\n",
    "    pass  # Implementation of Matching Pursuit goes here\n",
    "\n",
    "# Perform cross-validation (this will be revisited after implementing Matching Pursuit)\n",
    "# avg_errors = cross_validate_matching_pursuit(X_train, y_train, k_values)"
   ]
  },
  {
   "cell_type": "markdown",
   "id": "36690e62",
   "metadata": {},
   "source": [
    "In the above cell, we have defined a function to perform cross-validation for different values of `k`. We used K-Fold cross-validation to ensure the model generalizes well. Once the Matching Pursuit algorithm is implemented, we will use this function to find the optimal value of `k`."
   ]
  },
  {
   "cell_type": "markdown",
   "id": "33bd3cd8",
   "metadata": {},
   "source": [
    "## 3. Matching Pursuit Algorithm Implementation\n",
    "The Matching Pursuit algorithm is an iterative greedy algorithm that selects features one by one to approximate the target variable. Below, we provide the implementation of the algorithm."
   ]
  },
  {
   "cell_type": "code",
   "execution_count": 8,
   "id": "d3a4389d",
   "metadata": {},
   "outputs": [
    {
     "name": "stdout",
     "output_type": "stream",
     "text": [
      "Optimal k: 3\n",
      "Average errors for different k values: [3.068931234392161, 2.393453602467726, 1.9798556390107827, 4.542450909295477, 8.544502435979698, 5.667090597583847, 2.0786370343565683, 2.3934536024677264]\n"
     ]
    }
   ],
   "source": [
    "def matching_pursuit(X, y, k):\n",
    "    n_samples, n_features = X.shape\n",
    "    w = np.zeros(n_features)\n",
    "    residual = y.copy()\n",
    "\n",
    "    for _ in range(k):\n",
    "        # Find the feature most correlated with the residual\n",
    "        correlations = np.dot(X.T, residual)\n",
    "        best_feature = np.argmax(np.abs(correlations))\n",
    "\n",
    "        # Update the weight for the selected feature\n",
    "        w[best_feature] += correlations[best_feature] / np.dot(X[:, best_feature], X[:, best_feature])\n",
    "\n",
    "        # Update the residual\n",
    "        residual -= w[best_feature] * X[:, best_feature]\n",
    "\n",
    "    return w\n",
    "\n",
    "# Now that we have implemented the algorithm, we can perform cross-validation to find the optimal k\n",
    "avg_errors = cross_validate_matching_pursuit(X_train, y_train, k_values)\n",
    "optimal_k = k_values[np.argmin(avg_errors)]\n",
    "print(f'Optimal k: {optimal_k}')\n",
    "print(f'Average errors for different k values: {avg_errors}')"
   ]
  },
  {
   "cell_type": "markdown",
   "id": "ce546947",
   "metadata": {},
   "source": [
    "We have implemented the Matching Pursuit algorithm and performed cross-validation to find the optimal `k`. The value of `k` that minimizes the cross-validation error is displayed above, along with the corresponding average errors."
   ]
  },
  {
   "cell_type": "markdown",
   "id": "10f8b78d",
   "metadata": {},
   "source": [
    "## 4. Final Model and Evaluation\n",
    "Using the optimal value of `k` obtained from cross-validation, we will train our Matching Pursuit model on the training dataset and evaluate it on the test dataset. The performance of the model will be assessed using the mean squared error (MSE) metric."
   ]
  },
  {
   "cell_type": "code",
   "execution_count": 4,
   "id": "4fdba2ba",
   "metadata": {},
   "outputs": [
    {
     "name": "stdout",
     "output_type": "stream",
     "text": [
      "Final prediction error on the test dataset: 1.9120124681279305\n",
      "Final model weights: [ 0.          0.          0.          0.          0.00052602  0.\n",
      "  0.         -0.00687309]\n"
     ]
    }
   ],
   "source": [
    "# Train the final model using the optimal k\n",
    "final_w = matching_pursuit(X_train, y_train, optimal_k)\n",
    "\n",
    "# Predict on the test set\n",
    "y_pred = np.dot(X_test, final_w)\n",
    "\n",
    "# Calculate the prediction error\n",
    "test_error = mean_squared_error(y_test, y_pred)\n",
    "print(f'Final prediction error on the test dataset: {test_error}')\n",
    "print(f'Final model weights: {final_w}')"
   ]
  },
  {
   "cell_type": "markdown",
   "id": "d3bc7f7d",
   "metadata": {},
   "source": [
    "The final model has been trained using the optimal value of `k`, and its performance on the test dataset has been evaluated. The mean squared error (MSE) and the model weights are displayed above. This allows us to analyze the predictive power of the model and understand which features were selected."
   ]
  },
  {
   "cell_type": "markdown",
   "id": "3978c5c1",
   "metadata": {},
   "source": [
    "## 5. Conclusion\n",
    "In this project, we implemented the Matching Pursuit algorithm to construct a regression model with an L0 norm constraint. We used cross-validation to determine the optimal value of the hyperparameter `k` and evaluated the final model on a test dataset.\n",
    "\n",
    "The Matching Pursuit algorithm provides a way to build sparse regression models, which can be useful in scenarios where we want to limit model complexity or focus on the most important features. The model's performance was assessed using the mean squared error (MSE), and we observed the selected features through the final model weights. This approach can help in reducing overfitting and improving interpretability."
   ]
  },
  {
   "cell_type": "markdown",
   "id": "e1391424",
   "metadata": {},
   "source": [
    "## 6. References\n",
    "- Course textbook (Page 55) for the Matching Pursuit algorithm.\n",
    "- Scikit-learn documentation: https://scikit-learn.org/"
   ]
  }
 ],
 "metadata": {
  "kernelspec": {
   "display_name": "base",
   "language": "python",
   "name": "python3"
  },
  "language_info": {
   "codemirror_mode": {
    "name": "ipython",
    "version": 3
   },
   "file_extension": ".py",
   "mimetype": "text/x-python",
   "name": "python",
   "nbconvert_exporter": "python",
   "pygments_lexer": "ipython3",
   "version": "3.9.13"
  }
 },
 "nbformat": 4,
 "nbformat_minor": 5
}
